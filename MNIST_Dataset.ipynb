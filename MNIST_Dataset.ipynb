{
  "nbformat": 4,
  "nbformat_minor": 0,
  "metadata": {
    "colab": {
      "name": "MNIST_Dataset.ipynb",
      "provenance": [],
      "authorship_tag": "ABX9TyNI5A+xi8yYEtSfI7/SfYUq",
      "include_colab_link": true
    },
    "kernelspec": {
      "name": "python3",
      "display_name": "Python 3"
    },
    "language_info": {
      "name": "python"
    }
  },
  "cells": [
    {
      "cell_type": "markdown",
      "metadata": {
        "id": "view-in-github",
        "colab_type": "text"
      },
      "source": [
        "<a href=\"https://colab.research.google.com/github/suhyun565/Deeplearning_for_everyone/blob/main/MNIST_Dataset.ipynb\" target=\"_parent\"><img src=\"https://colab.research.google.com/assets/colab-badge.svg\" alt=\"Open In Colab\"/></a>"
      ]
    },
    {
      "cell_type": "code",
      "execution_count": null,
      "metadata": {
        "id": "FeWy9jbpZIWK"
      },
      "outputs": [],
      "source": [
        "!pip uninstall tensorflow"
      ]
    },
    {
      "cell_type": "code",
      "source": [
        "!pip install tensorflow==1.14"
      ],
      "metadata": {
        "id": "CLXntWKeapmi"
      },
      "execution_count": null,
      "outputs": []
    },
    {
      "cell_type": "code",
      "source": [
        "import tensorflow as tf"
      ],
      "metadata": {
        "id": "qxbMRDGVazpM"
      },
      "execution_count": null,
      "outputs": []
    },
    {
      "cell_type": "code",
      "source": [
        "import matplotlib.pyplot as plt\n"
      ],
      "metadata": {
        "id": "K7IcYtAza6_E"
      },
      "execution_count": 4,
      "outputs": []
    },
    {
      "cell_type": "code",
      "source": [
        "import random"
      ],
      "metadata": {
        "id": "89msPO1mbCcD"
      },
      "execution_count": 5,
      "outputs": []
    },
    {
      "cell_type": "code",
      "source": [
        "tf.set_random_seed(777)"
      ],
      "metadata": {
        "id": "GYYow64jbElt"
      },
      "execution_count": 6,
      "outputs": []
    },
    {
      "cell_type": "code",
      "source": [
        "from tensorflow.examples.tutorials.mnist import input_data"
      ],
      "metadata": {
        "id": "Fp3x4On1bO9a"
      },
      "execution_count": 7,
      "outputs": []
    },
    {
      "cell_type": "code",
      "source": [
        "mnist = input_data.read_data_sets('MNIST_data/', one_hot=True)"
      ],
      "metadata": {
        "id": "rZO7YOidbWl1"
      },
      "execution_count": null,
      "outputs": []
    },
    {
      "cell_type": "code",
      "source": [
        "nb_classes = 10"
      ],
      "metadata": {
        "id": "LSIZMXFAbtGR"
      },
      "execution_count": 9,
      "outputs": []
    },
    {
      "cell_type": "code",
      "source": [
        "x = tf.placeholder(tf.float32,[None,784])\n",
        "y = tf.placeholder(tf.float32,[None,nb_classes])"
      ],
      "metadata": {
        "id": "8VBiphMlbwk6"
      },
      "execution_count": 10,
      "outputs": []
    },
    {
      "cell_type": "code",
      "source": [
        "w = tf.Variable(tf.random_normal([784,nb_classes]))\n",
        "b = tf.Variable(tf.random_normal([nb_classes]))"
      ],
      "metadata": {
        "id": "GMLEamZGb_Yk"
      },
      "execution_count": 11,
      "outputs": []
    },
    {
      "cell_type": "code",
      "source": [
        "hypothesis = tf.nn.softmax(tf.matmul(x,w)+b)"
      ],
      "metadata": {
        "id": "vG2OBQU-cSIb"
      },
      "execution_count": 12,
      "outputs": []
    },
    {
      "cell_type": "code",
      "source": [
        "cost=tf.reduce_mean(-tf.reduce_sum(y*tf.log(hypothesis),axis=1))\n",
        "train = tf.train.GradientDescentOptimizer(learning_rate=0.1).minimize(cost)"
      ],
      "metadata": {
        "id": "QT7xI85IcZSq"
      },
      "execution_count": 13,
      "outputs": []
    },
    {
      "cell_type": "code",
      "source": [
        "is_correct = tf.equal(tf.argmax(hypothesis,1), tf.argmax(y,1))\n",
        "accuracy = tf.reduce_mean(tf.cast(is_correct, tf.float32))"
      ],
      "metadata": {
        "id": "LuFonUzDct3g"
      },
      "execution_count": 14,
      "outputs": []
    },
    {
      "cell_type": "code",
      "source": [
        "num_epochs = 15\n",
        "batch_size = 100\n",
        "num_iterations = int(mnist.train.num_examples/batch_size)"
      ],
      "metadata": {
        "id": "jjHMare4c9-b"
      },
      "execution_count": 15,
      "outputs": []
    },
    {
      "cell_type": "code",
      "source": [
        "with tf.Session() as sess:\n",
        "  sess.run(tf.global_variables_initializer())\n",
        "  for epoch in range(num_epochs):\n",
        "    avg_cost = 0\n",
        "\n",
        "    for i in range(num_iterations):\n",
        "      batch_xs,batch_ys = mnist.train.next_batch(batch_size)\n",
        "      _, cost_val = sess.run([train,cost], feed_dict = {x:batch_xs, y:batch_ys})\n",
        "      avg_cost += cost_val/ num_iterations\n",
        "    print('epoch:{:04d}, cost:{:.9f}'.format(epoch+1,avg_cost))\n",
        "  print('learning finished')\n",
        "  print(\n",
        "        \"Accuracy: \",\n",
        "        accuracy.eval(\n",
        "            session=sess, feed_dict={x: mnist.test.images, y: mnist.test.labels}\n",
        "        ),\n",
        "    )\n",
        "  r = random.randint(0, mnist.test.num_examples - 1)\n",
        "  print(\"Label: \", sess.run(tf.argmax(mnist.test.labels[r : r + 1], 1)))\n",
        "  print(\n",
        "        \"Prediction: \",\n",
        "        sess.run(tf.argmax(hypothesis, 1), feed_dict={x: mnist.test.images[r : r + 1]}),\n",
        "      )\n",
        "\n",
        "  plt.imshow(\n",
        "      mnist.test.images[r : r + 1].reshape(28, 28),\n",
        "      cmap=\"Greys\",\n",
        "      interpolation=\"nearest\",\n",
        "      )\n",
        "  plt.show()"
      ],
      "metadata": {
        "colab": {
          "base_uri": "https://localhost:8080/",
          "height": 595
        },
        "id": "eKXCywShdKEw",
        "outputId": "cdf044bc-b079-471c-ecba-646279ce8f86"
      },
      "execution_count": 30,
      "outputs": [
        {
          "output_type": "stream",
          "name": "stdout",
          "text": [
            "epoch:0001, cost:2.828699910\n",
            "epoch:0002, cost:1.060038580\n",
            "epoch:0003, cost:0.836961055\n",
            "epoch:0004, cost:0.733202790\n",
            "epoch:0005, cost:0.669434635\n",
            "epoch:0006, cost:0.624632338\n",
            "epoch:0007, cost:0.590568409\n",
            "epoch:0008, cost:0.563301098\n",
            "epoch:0009, cost:0.541037099\n",
            "epoch:0010, cost:0.522482494\n",
            "epoch:0011, cost:0.506113762\n",
            "epoch:0012, cost:0.492614301\n",
            "epoch:0013, cost:0.479750557\n",
            "epoch:0014, cost:0.469193122\n",
            "epoch:0015, cost:0.458874730\n",
            "learning finished\n",
            "Accuracy:  0.8962\n",
            "Label:  [0]\n",
            "Prediction:  [0]\n"
          ]
        },
        {
          "output_type": "display_data",
          "data": {
            "image/png": "[encoded data removed]",
            "text/plain": [
              "<Figure size 432x288 with 1 Axes>"
            ]
          },
          "metadata": {
            "needs_background": "light"
          }
        }
      ]
    }
  ]
}