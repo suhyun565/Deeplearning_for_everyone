{
  "nbformat": 4,
  "nbformat_minor": 0,
  "metadata": {
    "colab": {
      "name": "logistic regression.ipynb의 사본",
      "provenance": [],
      "collapsed_sections": [],
      "authorship_tag": "ABX9TyPSpyFNBIc2c7gJqEdCa4V7",
      "include_colab_link": true
    },
    "kernelspec": {
      "name": "python3",
      "display_name": "Python 3"
    },
    "language_info": {
      "name": "python"
    }
  },
  "cells": [
    {
      "cell_type": "markdown",
      "metadata": {
        "id": "view-in-github",
        "colab_type": "text"
      },
      "source": [
        "<a href=\"https://colab.research.google.com/github/suhyun565/Deeplearning_for_everyone/blob/main/logistic_regression_ipynb%EC%9D%98_%EC%82%AC%EB%B3%B8.ipynb\" target=\"_parent\"><img src=\"https://colab.research.google.com/assets/colab-badge.svg\" alt=\"Open In Colab\"/></a>"
      ]
    },
    {
      "cell_type": "code",
      "execution_count": null,
      "metadata": {
        "id": "qyPBsAPtl9Ph"
      },
      "outputs": [],
      "source": [
        "!pip uninstall tensorflow"
      ]
    },
    {
      "cell_type": "code",
      "source": [
        "!pip install tensorflow==1.14"
      ],
      "metadata": {
        "id": "G8sTFsMC5ouo"
      },
      "execution_count": null,
      "outputs": []
    },
    {
      "cell_type": "code",
      "source": [
        "import tensorflow as tf\n",
        "x_data = [[1,2],[2,3],[3,1],[4,3],[5,3],[6,2]]\n",
        "y_data = [[0],[0],[0],[1],[1],[1]]\n",
        "\n",
        "x = tf.placeholder(tf.float32, shape=[None,2])\n",
        "y = tf.placeholder(tf.float32, shape=[None,1])\n",
        "\n",
        "w = tf.Variable(tf.random_normal([2,1]), name='weight')\n",
        "b = tf.Variable(tf.random_normal([1]),name='bias')\n",
        "hypothesis = tf.sigmoid(tf.matmul(x,w)+b)\n",
        "cost = tf.reduce_mean(y*tf.log(hypothesis)+(1-y)*tf.log(1-hypothesis))\n",
        "train = tf.train.GradientDescentOptimizer(learning_rate=0.01).minimize(cost)\n",
        "\n",
        "predicted = tf.cast(hypothesis>0.5, dtype=tf.float32)\n",
        "accuracy = tf.reduce_mean(tf.cast(tf.equal(predicted,y), dtype=tf.float32))\n",
        "\n",
        "with tf.Session() as sess:\n",
        "  sess.run(tf.global_variables_initializer())\n",
        "  for step in range(1001):\n",
        "    cost_val,_ = sess.run([cost,train], feed_dict={x:x_data,y:y_data})\n",
        "    if step % 200 == 0:\n",
        "      print(step,cost_val)\n",
        "  h,c,a = sess.run([hypothesis, predicted, accuracy],\n",
        "                   feed_dict={x:x_data, y:y_data})\n",
        "  print(\"\\n hypothesis:\",h, \"\\n correct(y):\",c,\"\\n accuracy:\",a)"
      ],
      "metadata": {
        "colab": {
          "base_uri": "https://localhost:8080/"
        },
        "id": "TeyJXCUx5xmF",
        "outputId": "2055b47f-8361-4f22-eed4-1fa073056c5e"
      },
      "execution_count": null,
      "outputs": [
        {
          "output_type": "stream",
          "name": "stdout",
          "text": [
            "0 -6.197781\n",
            "200 nan\n",
            "400 nan\n",
            "600 nan\n",
            "800 nan\n",
            "1000 nan\n",
            "\n",
            " hypothesis: [[nan]\n",
            " [nan]\n",
            " [nan]\n",
            " [nan]\n",
            " [nan]\n",
            " [nan]] \n",
            " correct(y): [[0.]\n",
            " [0.]\n",
            " [0.]\n",
            " [0.]\n",
            " [0.]\n",
            " [0.]] \n",
            " accuracy: 0.5\n"
          ]
        }
      ]
    }
  ]
}